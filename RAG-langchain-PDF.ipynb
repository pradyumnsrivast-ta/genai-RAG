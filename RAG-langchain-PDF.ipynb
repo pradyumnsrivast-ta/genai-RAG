{
 "cells": [
  {
   "cell_type": "code",
   "execution_count": 1,
   "id": "bbcf1f50-4d9a-44fd-996d-3362d5f8d5bf",
   "metadata": {},
   "outputs": [],
   "source": [
    "from dotenv import load_dotenv\n",
    "load_dotenv()\n",
    "\n",
    "from langchain.chat_models import init_chat_model\n",
    "from langchain_mistralai import MistralAIEmbeddings\n",
    "from langchain_huggingface import HuggingFaceEmbeddings\n",
    "from langchain_core.vectorstores import InMemoryVectorStore\n",
    "\n",
    "from langchain import hub\n",
    "from langchain_community.document_loaders import PyPDFLoader\n",
    "from langchain_core.documents import Document\n",
    "from langchain_text_splitters import RecursiveCharacterTextSplitter\n",
    "\n",
    "from langchain.chains import create_retrieval_chain\n",
    "from langchain.chains.combine_documents import create_stuff_documents_chain\n",
    "from langchain_core.prompts import ChatPromptTemplate\n",
    "\n",
    "from warnings import filterwarnings\n",
    "filterwarnings(\"ignore\")"
   ]
  },
  {
   "cell_type": "code",
   "execution_count": 2,
   "id": "226ffdb5-4f43-4b79-8069-caa7a2499827",
   "metadata": {
    "scrolled": true
   },
   "outputs": [],
   "source": [
    "llm = init_chat_model(\"mistral-small\", model_provider=\"mistralai\") #llm"
   ]
  },
  {
   "cell_type": "code",
   "execution_count": 3,
   "id": "3ea321b9-abff-4fe8-b1cf-62603f2309f3",
   "metadata": {
    "scrolled": true
   },
   "outputs": [],
   "source": [
    "embeddings = HuggingFaceEmbeddings(model_name = \"BAAI/bge-small-en-v1.5\")"
   ]
  },
  {
   "cell_type": "code",
   "execution_count": 4,
   "id": "bc55cdc7-880a-4d26-9338-b196e075772d",
   "metadata": {},
   "outputs": [],
   "source": [
    "vector_store = InMemoryVectorStore(embeddings) # In memory vector storage"
   ]
  },
  {
   "cell_type": "markdown",
   "id": "ce66f01c-ff9f-43d1-8b82-155c26415550",
   "metadata": {},
   "source": [
    "**PDF Ingestion**"
   ]
  },
  {
   "cell_type": "code",
   "execution_count": 8,
   "id": "c22e8b40-0b6b-4e55-bbd4-05821337b33e",
   "metadata": {},
   "outputs": [
    {
     "name": "stdout",
     "output_type": "stream",
     "text": [
      "9\n"
     ]
    }
   ],
   "source": [
    "file_path = \"../tiger_pop.pdf\"\n",
    "loader = PyPDFLoader(file_path)\n",
    "\n",
    "docs = loader.load()\n",
    "\n",
    "print(len(docs)) # 9 pagaes are ingested"
   ]
  },
  {
   "cell_type": "code",
   "execution_count": 9,
   "id": "0e1df8a4-c833-408b-9bc5-56171dfe3249",
   "metadata": {},
   "outputs": [
    {
     "data": {
      "text/plain": [
       "{'producer': 'www.ilovepdf.com',\n",
       " 'creator': 'Microsoft® Word 2016',\n",
       " 'creationdate': '2024-07-28T01:43:15+00:00',\n",
       " 'author': 'APOORVA MAHIWAL',\n",
       " 'moddate': '2024-07-28T01:43:15+00:00',\n",
       " 'source': '../tiger_pop.pdf',\n",
       " 'total_pages': 9,\n",
       " 'page': 0,\n",
       " 'page_label': '1'}"
      ]
     },
     "execution_count": 9,
     "metadata": {},
     "output_type": "execute_result"
    }
   ],
   "source": [
    "docs[0].metadata"
   ]
  },
  {
   "cell_type": "code",
   "execution_count": 10,
   "id": "c43222f9-19b5-4a38-b703-db255405555b",
   "metadata": {},
   "outputs": [
    {
     "data": {
      "text/plain": [
       "'International Tiger Day 2024 \\n A Global Commitment to Tiger Conservation \\nJuly 26, 2024 \\n \\nEvery year on July 29, International Tiger Day is celebrated to highlight the importance of \\ntiger conservation across the globe. The declaration to celebrate this day was made on July 29, \\n2010, in St. Petersburg, aiming to unite all tiger range countries in a concerted effort to enhance \\ntiger conservation and management worldwide. This day serves as a platform to raise \\nawareness about the challenges faced by these magnificent creatures and the efforts being made \\nto safeguard their future.'"
      ]
     },
     "execution_count": 10,
     "metadata": {},
     "output_type": "execute_result"
    }
   ],
   "source": [
    "docs[0].page_content"
   ]
  },
  {
   "cell_type": "markdown",
   "id": "d976c66d-99c9-4b04-97ac-3dc62e0999c6",
   "metadata": {},
   "source": [
    "**Splitting Documents into chunks**"
   ]
  },
  {
   "cell_type": "code",
   "execution_count": 11,
   "id": "94f93efa-5684-4b92-a5d0-6421a068356d",
   "metadata": {},
   "outputs": [
    {
     "name": "stdout",
     "output_type": "stream",
     "text": [
      "Split blog post into 15 sub-documents.\n"
     ]
    }
   ],
   "source": [
    "text_splitter = RecursiveCharacterTextSplitter(\n",
    "    chunk_size = 1000,  # chunk size (characters)\n",
    "    chunk_overlap = 200,  # chunk overlap (characters)\n",
    "    add_start_index = True,  # track index in original document\n",
    ")\n",
    "all_splits = text_splitter.split_documents(docs)\n",
    "\n",
    "print(f\"Split blog post into {len(all_splits)} sub-documents.\")"
   ]
  },
  {
   "cell_type": "markdown",
   "id": "4aaa2e1b-a48d-42a5-9220-18691113c106",
   "metadata": {},
   "source": [
    "**Vector Indexing**"
   ]
  },
  {
   "cell_type": "code",
   "execution_count": 12,
   "id": "7b3fcf39-8169-4cc9-aa66-22ee27c1f67e",
   "metadata": {},
   "outputs": [],
   "source": [
    "document_ids = vector_store.add_documents(documents = all_splits)"
   ]
  },
  {
   "cell_type": "code",
   "execution_count": 13,
   "id": "2d6c62b0-c513-494b-9d76-7c223fe17c3c",
   "metadata": {},
   "outputs": [
    {
     "name": "stdout",
     "output_type": "stream",
     "text": [
      "15\n"
     ]
    }
   ],
   "source": [
    "print(len(document_ids)) # Each chuck is stored in an index"
   ]
  },
  {
   "cell_type": "code",
   "execution_count": 14,
   "id": "5da4bd84-03fd-44d4-924f-8f8cffd82d32",
   "metadata": {},
   "outputs": [
    {
     "data": {
      "text/plain": [
       "['fe79b2f2-a37a-43a6-b074-9535385149da',\n",
       " 'a9fd2989-47e7-42b9-abf2-e74f7603d311',\n",
       " '38b19c59-d1b3-460d-8b79-9d2e1f0dd2e6',\n",
       " 'aa03ba5d-234c-4e2c-af0c-3693f897181a',\n",
       " 'f669bd1d-78c5-4198-9f1b-cf4b72720469']"
      ]
     },
     "execution_count": 14,
     "metadata": {},
     "output_type": "execute_result"
    }
   ],
   "source": [
    "document_ids[:5]"
   ]
  },
  {
   "cell_type": "code",
   "execution_count": 15,
   "id": "26805270-ff31-46a0-a071-95c71ee859a9",
   "metadata": {},
   "outputs": [],
   "source": [
    "retriever = vector_store.as_retriever()"
   ]
  },
  {
   "cell_type": "markdown",
   "id": "2fc9caeb-9dbb-459a-b8d5-ab57a483a7f5",
   "metadata": {},
   "source": [
    "**Retrieval and Generation**"
   ]
  },
  {
   "cell_type": "code",
   "execution_count": 17,
   "id": "a572fb90-e9dd-40c6-baf5-b1fb77633a4e",
   "metadata": {},
   "outputs": [],
   "source": [
    "system_prompt = (\n",
    "    \"You are an assistant for question-answering tasks. \"\n",
    "    \"Use the following pieces of retrieved context to answer \"\n",
    "    \"the question. If you don't know the answer, say that you \"\n",
    "    \"don't know\"\n",
    "    \"\\n\\n\"\n",
    "    \"{context}\"\n",
    ")\n",
    "\n",
    "prompt = ChatPromptTemplate.from_messages(\n",
    "    [\n",
    "        (\"system\", system_prompt),\n",
    "        (\"human\", \"{input}\"),\n",
    "    ]\n",
    ")"
   ]
  },
  {
   "cell_type": "code",
   "execution_count": 18,
   "id": "ea4c3e55-18df-44f3-b462-0453dd5f4f70",
   "metadata": {
    "scrolled": true
   },
   "outputs": [],
   "source": [
    "question_answer_chain = create_stuff_documents_chain(llm, prompt)\n",
    "rag_chain = create_retrieval_chain(retriever, question_answer_chain)\n",
    "\n",
    "results = rag_chain.invoke({\"input\": \"Could you please summarize the document for me?\"})"
   ]
  },
  {
   "cell_type": "code",
   "execution_count": 19,
   "id": "e1075646-b0c2-4979-8c52-9cd92f931c80",
   "metadata": {},
   "outputs": [
    {
     "data": {
      "text/plain": [
       "'Could you please summarize the document for me?'"
      ]
     },
     "execution_count": 19,
     "metadata": {},
     "output_type": "execute_result"
    }
   ],
   "source": [
    "results['input']"
   ]
  },
  {
   "cell_type": "code",
   "execution_count": 20,
   "id": "b20523e8-c280-4180-8c73-606b64fe18ac",
   "metadata": {},
   "outputs": [
    {
     "name": "stdout",
     "output_type": "stream",
     "text": [
      "68dd26b1-394b-4d63-afcf-9c2482b547d9\n",
      "5c729f6f-fdc6-4d35-8238-314560da1067\n",
      "5a573373-2898-43e7-8fb1-943a0c03686b\n",
      "aa03ba5d-234c-4e2c-af0c-3693f897181a\n"
     ]
    }
   ],
   "source": [
    "for doc in results['context']:\n",
    "    print(doc.id)"
   ]
  },
  {
   "cell_type": "code",
   "execution_count": 21,
   "id": "4883d30d-c081-442c-8576-4d9eb40b6c09",
   "metadata": {},
   "outputs": [
    {
     "name": "stdout",
     "output_type": "stream",
     "text": [
      "{'producer': 'www.ilovepdf.com', 'creator': 'Microsoft® Word 2016', 'creationdate': '2024-07-28T01:43:15+00:00', 'author': 'APOORVA MAHIWAL', 'moddate': '2024-07-28T01:43:15+00:00', 'source': '../tiger_pop.pdf', 'total_pages': 9, 'page': 7, 'page_label': '8', 'start_index': 1588}\n"
     ]
    }
   ],
   "source": [
    "print(results[\"context\"][0].metadata)"
   ]
  },
  {
   "cell_type": "code",
   "execution_count": 24,
   "id": "122a40fa-4fbf-4e5a-80dd-7a0eae615310",
   "metadata": {},
   "outputs": [
    {
     "data": {
      "text/plain": [
       "'The Tiger Task Force was formed in response to a growing concern for tiger conservation in 1972, and it submitted its final report recommending the creation of Project Tiger. Project Tiger was then officially launched by the Government of India on April 1, 1973. The initial phase of Project Tiger included nine tiger reserves across India.'"
      ]
     },
     "execution_count": 24,
     "metadata": {},
     "output_type": "execute_result"
    }
   ],
   "source": [
    "results = rag_chain.invoke({\"input\": \"When did Tiger Task Force and Project Tiger launch?\"})\n",
    "results['answer']"
   ]
  },
  {
   "cell_type": "code",
   "execution_count": 23,
   "id": "8bde24eb-f3e2-4ec1-ae3e-35b96678b056",
   "metadata": {},
   "outputs": [
    {
     "name": "stdout",
     "output_type": "stream",
     "text": [
      "The provided context consists of various reports and articles related to tiger conservation in India. Here's a summary:\n",
      "\n",
      "1. In 1969, the Indian Board for Wildlife (IBWL) and the International Union for Conservation of Nature (IUCN) raised concerns about the decreasing tiger population and recommended a ban on the export of wild cat skins, including tigers. The IUCN listed the tiger as an endangered species in their Red Data Book and called for a global ban on tiger killings.\n",
      "2. In response to this growing concern, the IBWL's Executive Committee formed an 11-member Task Force to investigate the issue and propose a conservation strategy, leading to the inception of Project Tiger. The Task Force submitted its final report in August 1972, recommending that eight tiger forests be included in the project.\n",
      "3. In 2005, the Tiger Task Force submitted a report to the Government of India, resulting in significant amendments to the Wildlife (Protection) Act in 2006. These amendments established the National Tiger Conservation Authority (NTCA) and the Wildlife Crime Control Bureau as statutory bodies, transforming Project Tiger from a mere funding scheme into a collaborative commitment involving the central government, state governments, and tiger reserves.\n",
      "\n",
      "The sources for this summary are the Press Information Bureau of India, the Ministry of Environment, Forest and Climate Change, National Tiger Conservation Authority, and International Union for Conservation of Nature.\n"
     ]
    }
   ],
   "source": [
    "print(results['answer'])"
   ]
  },
  {
   "cell_type": "code",
   "execution_count": 26,
   "id": "00bdf604-e444-4b6d-8179-48a7273953f6",
   "metadata": {},
   "outputs": [
    {
     "name": "stdout",
     "output_type": "stream",
     "text": [
      "Sure, I can provide some examples of tiger reserves in India based on the provided context. Here are a few:\n",
      "\n",
      "1. Pench Tiger Reserve, Madhya Pradesh\n",
      "2. Satpura Tiger Reserve, Madhya Pradesh\n",
      "3. Veerangana Durgavati Tiger Reserve, Madhya Pradesh\n",
      "4. Corbett Tiger Reserve, Uttar Pradesh\n",
      "5. Palamau Tiger Reserve, Bihar (now Jharkhand)\n",
      "6. Similipal Tiger Reserve, Odisha\n",
      "7. Sundarbans Tiger Reserve, West Bengal\n",
      "8. Manas Tiger Reserve, Assam\n",
      "9. Ranthambhore Tiger Reserve, Rajasthan\n",
      "10. Kanha Tiger Reserve, Madhya Pradesh\n",
      "11. Melghat Tiger Reserve, Maharashtra\n",
      "12. Bandipur Tiger Reserve, Karnataka (originally in Mysore)\n",
      "\n",
      "These tiger reserves are spread across various states in India and were established to protect and conserve the tiger population in the country.\n"
     ]
    }
   ],
   "source": [
    "results = rag_chain.invoke({\"input\": \"When are some tiger reserves in India?\"})\n",
    "print(results['answer'])"
   ]
  },
  {
   "cell_type": "code",
   "execution_count": null,
   "id": "6368cd40-d62c-4699-a186-4d1fb210ec64",
   "metadata": {},
   "outputs": [],
   "source": []
  }
 ],
 "metadata": {
  "kernelspec": {
   "display_name": "Python 3 (ipykernel)",
   "language": "python",
   "name": "python3"
  },
  "language_info": {
   "codemirror_mode": {
    "name": "ipython",
    "version": 3
   },
   "file_extension": ".py",
   "mimetype": "text/x-python",
   "name": "python",
   "nbconvert_exporter": "python",
   "pygments_lexer": "ipython3",
   "version": "3.12.9"
  }
 },
 "nbformat": 4,
 "nbformat_minor": 5
}
