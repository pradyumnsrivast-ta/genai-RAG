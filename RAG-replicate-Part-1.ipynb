{
 "cells": [
  {
   "cell_type": "code",
   "execution_count": 30,
   "id": "4d2bf821-9cf5-4689-9e64-71238d209561",
   "metadata": {},
   "outputs": [],
   "source": [
    "from dotenv import load_dotenv\n",
    "load_dotenv()\n",
    "\n",
    "from langchain_community.llms import Replicate\n",
    "from langchain_huggingface import HuggingFaceEmbeddings\n",
    "from langchain_core.vectorstores import InMemoryVectorStore\n",
    "\n",
    "import bs4\n",
    "from langchain import hub\n",
    "from langchain_community.document_loaders import WebBaseLoader\n",
    "from langchain_core.documents import Document\n",
    "from langchain_text_splitters import RecursiveCharacterTextSplitter\n",
    "from langgraph.graph import START, StateGraph\n",
    "from typing_extensions import List, TypedDict\n",
    "from langchain_core.callbacks import StreamingStdOutCallbackHandler\n",
    "\n",
    "from IPython.display import Image, display"
   ]
  },
  {
   "cell_type": "markdown",
   "id": "f55a7df6-1d5f-428f-9645-24bbbaf6ac10",
   "metadata": {},
   "source": [
    "**Using meta-llama-3-70b-instruct model**"
   ]
  },
  {
   "cell_type": "code",
   "execution_count": 2,
   "id": "b79b0955-c390-4836-95f4-56480e051f0c",
   "metadata": {},
   "outputs": [],
   "source": [
    "llm = Replicate(\n",
    "    model = \"meta/meta-llama-3-70b-instruct\",\n",
    "    model_kwargs = {\"temperature\": 0.75, \"max_length\": 500, \"top_p\": 1}\n",
    ")"
   ]
  },
  {
   "cell_type": "code",
   "execution_count": 3,
   "id": "3ccbaeb5-57b1-42b8-80bd-5510dc84965f",
   "metadata": {},
   "outputs": [
    {
     "name": "stderr",
     "output_type": "stream",
     "text": [
      "/home/pradyumnsrivast/miniforge3/envs/lang/lib/python3.12/site-packages/tqdm/auto.py:21: TqdmWarning: IProgress not found. Please update jupyter and ipywidgets. See https://ipywidgets.readthedocs.io/en/stable/user_install.html\n",
      "  from .autonotebook import tqdm as notebook_tqdm\n"
     ]
    }
   ],
   "source": [
    "embeddings = HuggingFaceEmbeddings(model_name = \"BAAI/bge-small-en-v1.5\")"
   ]
  },
  {
   "cell_type": "code",
   "execution_count": 4,
   "id": "7286f70a-bd12-4834-8028-120d397d9dff",
   "metadata": {},
   "outputs": [],
   "source": [
    "vector_store = InMemoryVectorStore(embeddings)"
   ]
  },
  {
   "cell_type": "markdown",
   "id": "7e431e22-a55d-40e5-b820-4a5ce7cef102",
   "metadata": {},
   "source": [
    "**Scrapping data from a webpage using beautiful soup**"
   ]
  },
  {
   "cell_type": "code",
   "execution_count": 5,
   "id": "173c9848-0cd2-4959-a77c-ca4df9d2ce58",
   "metadata": {},
   "outputs": [
    {
     "name": "stdout",
     "output_type": "stream",
     "text": [
      "Total characters: 43130\n"
     ]
    }
   ],
   "source": [
    "# Only keep post title, headers, and content from the full HTML.\n",
    "bs4_strainer = bs4.SoupStrainer(class_=(\"post-title\", \"post-header\", \"post-content\"))\n",
    "loader = WebBaseLoader(\n",
    "    web_paths=(\"https://lilianweng.github.io/posts/2023-06-23-agent/\",),\n",
    "    bs_kwargs={\"parse_only\": bs4_strainer},\n",
    ")\n",
    "docs = loader.load()\n",
    "\n",
    "assert len(docs) == 1\n",
    "print(f\"Total characters: {len(docs[0].page_content)}\")"
   ]
  },
  {
   "cell_type": "code",
   "execution_count": 6,
   "id": "035f3bea-ad1e-42b3-a01c-04a7c43f5f00",
   "metadata": {},
   "outputs": [
    {
     "data": {
      "text/plain": [
       "langchain_core.documents.base.Document"
      ]
     },
     "execution_count": 6,
     "metadata": {},
     "output_type": "execute_result"
    }
   ],
   "source": [
    "type(docs[0])"
   ]
  },
  {
   "cell_type": "code",
   "execution_count": 7,
   "id": "4d69c22b-7d0d-4457-bad7-86d70fda4c23",
   "metadata": {},
   "outputs": [
    {
     "data": {
      "text/plain": [
       "{'source': 'https://lilianweng.github.io/posts/2023-06-23-agent/'}"
      ]
     },
     "execution_count": 7,
     "metadata": {},
     "output_type": "execute_result"
    }
   ],
   "source": [
    "docs[0].metadata"
   ]
  },
  {
   "cell_type": "code",
   "execution_count": 8,
   "id": "286324d3-f7c2-4691-bb03-1b05d5857422",
   "metadata": {},
   "outputs": [
    {
     "name": "stdout",
     "output_type": "stream",
     "text": [
      "\n",
      "\n",
      "      LLM Powered Autonomous Agents\n",
      "    \n",
      "Date: June 23, 2023  |  Estimated Reading Time: 31 min  |  Author: Lilian Weng\n",
      "\n",
      "\n",
      "Building agents with LLM (large language model) as its core controller is a cool concept. Several proof-of-concepts demos, such as AutoGPT, GPT-Engineer and BabyAGI, serve as inspiring examples. The potentiality of LLM extends beyond generating well-written copies, stories, essays and programs; it can be framed as a powerful general problem solver.\n",
      "Agent System Overview#\n",
      "In\n"
     ]
    }
   ],
   "source": [
    "print(docs[0].page_content[:500])"
   ]
  },
  {
   "cell_type": "code",
   "execution_count": 9,
   "id": "1a9d28b1-aa98-4947-ae97-feead1f0314c",
   "metadata": {},
   "outputs": [
    {
     "name": "stdout",
     "output_type": "stream",
     "text": [
      "43130\n"
     ]
    }
   ],
   "source": [
    "print(len(docs[0].page_content))"
   ]
  },
  {
   "cell_type": "markdown",
   "id": "3c5605b5-ae49-47df-9b1c-311859c4bcf3",
   "metadata": {},
   "source": [
    "Our loaded document is over 43k characters which is too long to fit into the context window of many models. Even for those models that could fit the full post in their context window, models can struggle to find information in very long inputs."
   ]
  },
  {
   "cell_type": "markdown",
   "id": "6ddde68f-d449-4272-92be-0a99404122fd",
   "metadata": {},
   "source": [
    "**Chunking the Document**\n",
    "\n",
    "RecursiveCharacterTextSplitter will recursively split the document using common separators like new lines until each chunk is the appropriate size. This is the recommended text splitter for generic text use cases."
   ]
  },
  {
   "cell_type": "code",
   "execution_count": 10,
   "id": "eedefc82-e6ab-49e1-9ab8-ae44b03bfd75",
   "metadata": {},
   "outputs": [
    {
     "name": "stdout",
     "output_type": "stream",
     "text": [
      "Split blog post into 66 sub-documents.\n"
     ]
    }
   ],
   "source": [
    "text_splitter = RecursiveCharacterTextSplitter(\n",
    "    chunk_size = 1000,  # chunk size (characters)\n",
    "    chunk_overlap = 200,  # chunk overlap (characters)\n",
    "    add_start_index = True,  # track index in original document\n",
    ")\n",
    "all_splits = text_splitter.split_documents(docs)\n",
    "\n",
    "print(f\"Split blog post into {len(all_splits)} sub-documents.\")"
   ]
  },
  {
   "cell_type": "code",
   "execution_count": 11,
   "id": "14601694-d364-447b-8832-7342810be6a1",
   "metadata": {},
   "outputs": [
    {
     "data": {
      "text/plain": [
       "{'source': 'https://lilianweng.github.io/posts/2023-06-23-agent/',\n",
       " 'start_index': 971}"
      ]
     },
     "execution_count": 11,
     "metadata": {},
     "output_type": "execute_result"
    }
   ],
   "source": [
    "all_splits[1].metadata"
   ]
  },
  {
   "cell_type": "code",
   "execution_count": 12,
   "id": "43989276-ddd9-49aa-9161-5e0eca2773b7",
   "metadata": {},
   "outputs": [
    {
     "data": {
      "text/plain": [
       "'Memory\\n\\nShort-term memory: I would consider all the in-context learning (See Prompt Engineering) as utilizing short-term memory of the model to learn.\\nLong-term memory: This provides the agent with the capability to retain and recall (infinite) information over extended periods, often by leveraging an external vector store and fast retrieval.\\n\\n\\nTool use\\n\\nThe agent learns to call external APIs for extra information that is missing from the model weights (often hard to change after pre-training), including current information, code execution capability, access to proprietary information sources and more.'"
      ]
     },
     "execution_count": 12,
     "metadata": {},
     "output_type": "execute_result"
    }
   ],
   "source": [
    "all_splits[1].page_content"
   ]
  },
  {
   "cell_type": "code",
   "execution_count": 13,
   "id": "949ad74f-de59-432b-874a-8b7561162306",
   "metadata": {},
   "outputs": [
    {
     "data": {
      "text/plain": [
       "'Fig. 1. Overview of a LLM-powered autonomous agent system.\\nComponent One: Planning#\\nA complicated task usually involves many steps. An agent needs to know what they are and plan ahead.\\nTask Decomposition#\\nChain of thought (CoT; Wei et al. 2022) has become a standard prompting technique for enhancing model performance on complex tasks. The model is instructed to “think step by step” to utilize more test-time computation to decompose hard tasks into smaller and simpler steps. CoT transforms big tasks into multiple manageable tasks and shed lights into an interpretation of the model’s thinking process.'"
      ]
     },
     "execution_count": 13,
     "metadata": {},
     "output_type": "execute_result"
    }
   ],
   "source": [
    "all_splits[2].page_content"
   ]
  },
  {
   "cell_type": "markdown",
   "id": "7294a5f8-eb81-4c67-af31-da15328daaff",
   "metadata": {},
   "source": [
    "**Indexing**"
   ]
  },
  {
   "cell_type": "code",
   "execution_count": 14,
   "id": "3e0c0abc-466e-4ba8-b2c2-2161a772853b",
   "metadata": {
    "scrolled": true
   },
   "outputs": [],
   "source": [
    "document_ids = vector_store.add_documents(documents = all_splits)"
   ]
  },
  {
   "cell_type": "code",
   "execution_count": 15,
   "id": "581a6976-173e-4e0e-a518-8679bf92ed2a",
   "metadata": {},
   "outputs": [
    {
     "data": {
      "text/plain": [
       "66"
      ]
     },
     "execution_count": 15,
     "metadata": {},
     "output_type": "execute_result"
    }
   ],
   "source": [
    "len(all_splits) # 66 chunks of document"
   ]
  },
  {
   "cell_type": "code",
   "execution_count": 16,
   "id": "4f63ec31-c172-4abd-9246-d15167e47e3a",
   "metadata": {},
   "outputs": [
    {
     "data": {
      "text/plain": [
       "66"
      ]
     },
     "execution_count": 16,
     "metadata": {},
     "output_type": "execute_result"
    }
   ],
   "source": [
    "len(document_ids) # Each chuck is stored in an index"
   ]
  },
  {
   "cell_type": "code",
   "execution_count": 17,
   "id": "80ae632f-774a-4f1a-a2b3-abd4383df53a",
   "metadata": {},
   "outputs": [
    {
     "data": {
      "text/plain": [
       "['97176b82-3977-4549-a0a6-82fac08d85e3',\n",
       " '761eee0c-b793-415f-bcbc-c09888441723',\n",
       " 'da475821-87e3-4039-ad5f-a86dccfd06f6',\n",
       " '64a00ae9-b9ee-4960-99d5-e6d6edc4b328',\n",
       " '1335b028-a10f-4b3a-87cd-7bb37f20dba5']"
      ]
     },
     "execution_count": 17,
     "metadata": {},
     "output_type": "execute_result"
    }
   ],
   "source": [
    "document_ids[:5]"
   ]
  },
  {
   "cell_type": "markdown",
   "id": "60c44e7e-b7f7-4ccb-9cce-c1dbe8654dd8",
   "metadata": {},
   "source": [
    "**Retrieval and Generation**"
   ]
  },
  {
   "cell_type": "code",
   "execution_count": 18,
   "id": "44e7e1bf-d2bb-4537-a84f-cd7037b266d0",
   "metadata": {},
   "outputs": [
    {
     "name": "stdout",
     "output_type": "stream",
     "text": [
      "You are an assistant for question-answering tasks. Use the following pieces of retrieved context to answer the question. If you don't know the answer, just say that you don't know. Use three sentences maximum and keep the answer concise.\n",
      "Question: (question goes here) \n",
      "Context: (context goes here) \n",
      "Answer:\n"
     ]
    }
   ],
   "source": [
    "prompt = hub.pull(\"rlm/rag-prompt\") # default system prompt\n",
    "\n",
    "example_messages = prompt.invoke(\n",
    "    {\"context\": \"(context goes here)\", \"question\": \"(question goes here)\"}\n",
    ").to_messages()\n",
    "\n",
    "assert len(example_messages) == 1\n",
    "print(example_messages[0].content)"
   ]
  },
  {
   "cell_type": "markdown",
   "id": "58cc3b04-f960-4e79-bf51-5191b88d9ec1",
   "metadata": {},
   "source": [
    "We will use Langraph to tie together retrieval and generation -\n",
    "\n",
    "1. The state of our application (controls data flow in the app)\n",
    "2. The nodes of our application (i.e., application steps)\n",
    "3. The \"control flow\" of our application (e.g., the ordering of the steps)"
   ]
  },
  {
   "cell_type": "code",
   "execution_count": 19,
   "id": "a1b991f5-9e79-4e76-a62e-b3013a2edb0e",
   "metadata": {},
   "outputs": [],
   "source": [
    "# STATE\n",
    "\n",
    "class State(TypedDict):\n",
    "    question: str\n",
    "    context: List[Document]\n",
    "    answer: str"
   ]
  },
  {
   "cell_type": "code",
   "execution_count": 20,
   "id": "c1fae168-690e-4651-b0cb-acf7832f401e",
   "metadata": {},
   "outputs": [],
   "source": [
    "# NODES\n",
    "\n",
    "def retrieve(state: State):\n",
    "    '''\n",
    "        Runs a similarity search on the input question\n",
    "    '''\n",
    "    retrieved_docs = vector_store.similarity_search(state[\"question\"])\n",
    "    return {\"context\": retrieved_docs}\n",
    "\n",
    "\n",
    "def generate(state: State):\n",
    "    '''\n",
    "        Formats the retrieved context and original question into a prompt for the chat model\n",
    "    '''\n",
    "    docs_content = \"\\n\\n\".join(doc.page_content for doc in state[\"context\"])\n",
    "    messages = prompt.invoke({\"question\": state[\"question\"], \"context\": docs_content})\n",
    "    response = llm.invoke(messages)\n",
    "    return {\"answer\": response}"
   ]
  },
  {
   "cell_type": "code",
   "execution_count": 21,
   "id": "b0b60d02-cb0c-40c2-8392-f4c16b81e727",
   "metadata": {},
   "outputs": [],
   "source": [
    "# CONTROL\n",
    "\n",
    "# Tie our app into a single graph\n",
    "\n",
    "graph_builder = StateGraph(State).add_sequence([retrieve, generate])\n",
    "graph_builder.add_edge(START, \"retrieve\")\n",
    "graph = graph_builder.compile()"
   ]
  },
  {
   "cell_type": "code",
   "execution_count": 22,
   "id": "444987a3-d917-4a43-bd8f-94a06839650b",
   "metadata": {},
   "outputs": [
    {
     "data": {
      "image/png": "[encoded data removed]",
      "text/plain": [
       "<IPython.core.display.Image object>"
      ]
     },
     "metadata": {},
     "output_type": "display_data"
    }
   ],
   "source": [
    "display(Image(graph.get_graph().draw_mermaid_png()))"
   ]
  },
  {
   "cell_type": "code",
   "execution_count": 23,
   "id": "b6617a86-b96a-42b8-a413-10c8fd7aeb9d",
   "metadata": {},
   "outputs": [],
   "source": [
    "result = graph.invoke({\"question\": \"What is Task Decomposition?\"})"
   ]
  },
  {
   "cell_type": "code",
   "execution_count": 26,
   "id": "9cd7d840-6d44-496f-bbbd-c13a357fd356",
   "metadata": {},
   "outputs": [
    {
     "name": "stdout",
     "output_type": "stream",
     "text": [
      "What is Task Decomposition?\n"
     ]
    }
   ],
   "source": [
    "print(result['question'])"
   ]
  },
  {
   "cell_type": "code",
   "execution_count": 27,
   "id": "787e6e71-b6df-4073-bde1-ea8bbbce2ba9",
   "metadata": {},
   "outputs": [
    {
     "name": "stdout",
     "output_type": "stream",
     "text": [
      "[Document(id='da475821-87e3-4039-ad5f-a86dccfd06f6', metadata={'source': 'https://lilianweng.github.io/posts/2023-06-23-agent/', 'start_index': 1585}, page_content='Fig. 1. Overview of a LLM-powered autonomous agent system.\\nComponent One: Planning#\\nA complicated task usually involves many steps. An agent needs to know what they are and plan ahead.\\nTask Decomposition#\\nChain of thought (CoT; Wei et al. 2022) has become a standard prompting technique for enhancing model performance on complex tasks. The model is instructed to “think step by step” to utilize more test-time computation to decompose hard tasks into smaller and simpler steps. CoT transforms big tasks into multiple manageable tasks and shed lights into an interpretation of the model’s thinking process.'), Document(id='64a00ae9-b9ee-4960-99d5-e6d6edc4b328', metadata={'source': 'https://lilianweng.github.io/posts/2023-06-23-agent/', 'start_index': 2192}, page_content='Tree of Thoughts (Yao et al. 2023) extends CoT by exploring multiple reasoning possibilities at each step. It first decomposes the problem into multiple thought steps and generates multiple thoughts per step, creating a tree structure. The search process can be BFS (breadth-first search) or DFS (depth-first search) with each state evaluated by a classifier (via a prompt) or majority vote.\\nTask decomposition can be done (1) by LLM with simple prompting like \"Steps for XYZ.\\\\n1.\", \"What are the subgoals for achieving XYZ?\", (2) by using task-specific instructions; e.g. \"Write a story outline.\" for writing a novel, or (3) with human inputs.'), Document(id='2df54602-19c5-4c78-884a-1a869bb15b82', metadata={'source': 'https://lilianweng.github.io/posts/2023-06-23-agent/', 'start_index': 17803}, page_content='The AI assistant can parse user input to several tasks: [{\"task\": task, \"id\", task_id, \"dep\": dependency_task_ids, \"args\": {\"text\": text, \"image\": URL, \"audio\": URL, \"video\": URL}}]. The \"dep\" field denotes the id of the previous task which generates a new resource that the current task relies on. A special tag \"-task_id\" refers to the generated text image, audio and video in the dependency task with id as task_id. The task MUST be selected from the following options: {{ Available Task List }}. There is a logical relationship between tasks, please note their order. If the user input can\\'t be parsed, you need to reply empty JSON. Here are several cases for your reference: {{ Demonstrations }}. The chat history is recorded as {{ Chat History }}. From this chat history, you can find the path of the user-mentioned resources for your task planning.'), Document(id='c8fe3bea-65f8-4424-8c15-4fbe69d6a6bc', metadata={'source': 'https://lilianweng.github.io/posts/2023-06-23-agent/', 'start_index': 4317}, page_content='Fig. 2.  Examples of reasoning trajectories for knowledge-intensive tasks (e.g. HotpotQA, FEVER) and decision-making tasks (e.g. AlfWorld Env, WebShop). (Image source: Yao et al. 2023).\\nIn both experiments on knowledge-intensive tasks and decision-making tasks, ReAct works better than the Act-only baseline where Thought: … step is removed.\\nReflexion (Shinn & Labash 2023) is a framework to equip agents with dynamic memory and self-reflection capabilities to improve reasoning skills. Reflexion has a standard RL setup, in which the reward model provides a simple binary reward and the action space follows the setup in ReAct where the task-specific action space is augmented with language to enable complex reasoning steps. After each action $a_t$, the agent computes a heuristic $h_t$ and optionally may decide to reset the environment to start a new trial depending on the self-reflection results.')]\n"
     ]
    }
   ],
   "source": [
    "print(result['context'])"
   ]
  },
  {
   "cell_type": "code",
   "execution_count": 28,
   "id": "72237b7b-4810-4932-bbf9-1eccdfe60684",
   "metadata": {},
   "outputs": [
    {
     "data": {
      "text/plain": [
       "4"
      ]
     },
     "execution_count": 28,
     "metadata": {},
     "output_type": "execute_result"
    }
   ],
   "source": [
    "len(result[\"context\"])"
   ]
  },
  {
   "cell_type": "code",
   "execution_count": 29,
   "id": "c628d3e5-29e5-4bca-9620-5059197a82cf",
   "metadata": {},
   "outputs": [
    {
     "name": "stdout",
     "output_type": "stream",
     "text": [
      "Answer: \n",
      "\n",
      "Task decomposition is the process of breaking down a complex task into smaller, more manageable steps or subtasks. This can be achieved through various methods, including using language models with simple prompting, task-specific instructions, or human inputs. The goal of task decomposition is to make a big task more understandable and solvable by dividing it into simpler components.\n"
     ]
    }
   ],
   "source": [
    "print(f'Answer: {result[\"answer\"]}')"
   ]
  },
  {
   "cell_type": "code",
   "execution_count": null,
   "id": "4a38499f-eeda-4d2d-b738-7f7f20871d47",
   "metadata": {},
   "outputs": [],
   "source": []
  },
  {
   "cell_type": "markdown",
   "id": "7bc6dba7-e6f2-4e53-92a6-d1a56155eadf",
   "metadata": {},
   "source": [
    "**Stream Tokens**"
   ]
  },
  {
   "cell_type": "code",
   "execution_count": 33,
   "id": "7f1191d9-4fc9-4274-ba2f-4dac52af30a8",
   "metadata": {},
   "outputs": [
    {
     "name": "stdout",
     "output_type": "stream",
     "text": [
      "\n",
      "\n",
      "Let's break this down step by step!\n",
      "\n",
      "1. Jupiter is approximately 778.3 million kilometers (483.8 million miles) away from Earth.\n",
      "2. The fastest spacecraft ever built is NASA's Parker Solar Probe, which has a top speed of about 192,000 kilometers per hour (119,000 miles per hour).\n",
      "3. To calculate how long it would take to reach Jupiter at this speed, we can use the formula: Distance / Speed = Time.\n",
      "\n",
      "Plugging in the numbers, we get:\n",
      "\n",
      "778,300,000 km / 192,000 km/h = approximately 4,040 hours\n",
      "\n",
      "4. There are 24 hours in a day, so:\n",
      "\n",
      "4,040 hours / 24 hours/day = approximately 168.3 days\n",
      "\n",
      "5. Therefore, it would take the Parker Solar Probe, the fastest spacecraft ever built, about 168.3 days to reach Jupiter, not 2 days.\n",
      "\n",
      "Conclusion: No, humankind cannot reach Jupiter in 2 days."
     ]
    }
   ],
   "source": [
    "llm = Replicate(\n",
    "    streaming = True,\n",
    "    callbacks = [StreamingStdOutCallbackHandler()],\n",
    "    model=\"meta/meta-llama-3-8b-instruct\",\n",
    "    model_kwargs={\"temperature\": 0.75, \"max_length\": 500, \"top_p\": 1},\n",
    ")\n",
    "prompt = \"\"\"\n",
    "User: Answer the following yes/no question by reasoning step by step. Can humankind reach Jupiter in 2 days?\n",
    "Assistant:\n",
    "\"\"\"\n",
    "ans = llm.invoke(prompt)"
   ]
  },
  {
   "cell_type": "code",
   "execution_count": null,
   "id": "25d6f44e-834a-4de9-b923-ea2ce9ed0ce9",
   "metadata": {},
   "outputs": [],
   "source": []
  }
 ],
 "metadata": {
  "kernelspec": {
   "display_name": "Python 3 (ipykernel)",
   "language": "python",
   "name": "python3"
  },
  "language_info": {
   "codemirror_mode": {
    "name": "ipython",
    "version": 3
   },
   "file_extension": ".py",
   "mimetype": "text/x-python",
   "name": "python",
   "nbconvert_exporter": "python",
   "pygments_lexer": "ipython3",
   "version": "3.12.9"
  }
 },
 "nbformat": 4,
 "nbformat_minor": 5
}
