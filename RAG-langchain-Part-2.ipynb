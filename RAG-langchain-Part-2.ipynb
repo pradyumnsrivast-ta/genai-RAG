{
 "cells": [
  {
   "cell_type": "code",
   "execution_count": 2,
   "id": "4d2bf821-9cf5-4689-9e64-71238d209561",
   "metadata": {},
   "outputs": [
    {
     "name": "stderr",
     "output_type": "stream",
     "text": [
      "USER_AGENT environment variable not set, consider setting it to identify your requests.\n"
     ]
    }
   ],
   "source": [
    "from dotenv import load_dotenv\n",
    "load_dotenv()\n",
    "\n",
    "from langchain.chat_models import init_chat_model\n",
    "from langchain_huggingface import HuggingFaceEmbeddings\n",
    "from langchain_core.vectorstores import InMemoryVectorStore\n",
    "\n",
    "import bs4\n",
    "from langchain import hub\n",
    "from langchain_community.document_loaders import WebBaseLoader\n",
    "from langchain_core.documents import Document\n",
    "from langchain_text_splitters import RecursiveCharacterTextSplitter\n",
    "from langgraph.graph import START, StateGraph, MessagesState, END\n",
    "from langchain_core.tools import tool\n",
    "from langchain_core.messages import SystemMessage\n",
    "from langgraph.prebuilt import ToolNode, tools_condition, create_react_agent\n",
    "from langgraph.checkpoint.memory import MemorySaver\n",
    "\n",
    "from IPython.display import Image, display\n",
    "from warnings import filterwarnings\n",
    "filterwarnings(\"ignore\")"
   ]
  },
  {
   "cell_type": "markdown",
   "id": "f55a7df6-1d5f-428f-9645-24bbbaf6ac10",
   "metadata": {},
   "source": [
    "**Using meta-llama-3-70b-instruct model**"
   ]
  },
  {
   "cell_type": "code",
   "execution_count": 3,
   "id": "b79b0955-c390-4836-95f4-56480e051f0c",
   "metadata": {},
   "outputs": [],
   "source": [
    "llm = init_chat_model(\"mistral-small\", model_provider=\"mistralai\")"
   ]
  },
  {
   "cell_type": "code",
   "execution_count": 4,
   "id": "3ccbaeb5-57b1-42b8-80bd-5510dc84965f",
   "metadata": {},
   "outputs": [],
   "source": [
    "embeddings = HuggingFaceEmbeddings(model_name = \"BAAI/bge-small-en-v1.5\")"
   ]
  },
  {
   "cell_type": "code",
   "execution_count": 5,
   "id": "7286f70a-bd12-4834-8028-120d397d9dff",
   "metadata": {},
   "outputs": [],
   "source": [
    "vector_store = InMemoryVectorStore(embeddings)"
   ]
  },
  {
   "cell_type": "markdown",
   "id": "7e431e22-a55d-40e5-b820-4a5ce7cef102",
   "metadata": {},
   "source": [
    "**Scrapping data from a webpage using beautiful soup**"
   ]
  },
  {
   "cell_type": "code",
   "execution_count": 6,
   "id": "173c9848-0cd2-4959-a77c-ca4df9d2ce58",
   "metadata": {},
   "outputs": [
    {
     "name": "stdout",
     "output_type": "stream",
     "text": [
      "Total characters: 43130\n"
     ]
    }
   ],
   "source": [
    "# Only keep post title, headers, and content from the full HTML.\n",
    "bs4_strainer = bs4.SoupStrainer(class_=(\"post-title\", \"post-header\", \"post-content\"))\n",
    "loader = WebBaseLoader(\n",
    "    web_paths=(\"https://lilianweng.github.io/posts/2023-06-23-agent/\",),\n",
    "    bs_kwargs={\"parse_only\": bs4_strainer},\n",
    ")\n",
    "docs = loader.load()\n",
    "\n",
    "assert len(docs) == 1\n",
    "print(f\"Total characters: {len(docs[0].page_content)}\")"
   ]
  },
  {
   "cell_type": "code",
   "execution_count": 7,
   "id": "035f3bea-ad1e-42b3-a01c-04a7c43f5f00",
   "metadata": {},
   "outputs": [
    {
     "data": {
      "text/plain": [
       "langchain_core.documents.base.Document"
      ]
     },
     "execution_count": 7,
     "metadata": {},
     "output_type": "execute_result"
    }
   ],
   "source": [
    "type(docs[0])"
   ]
  },
  {
   "cell_type": "code",
   "execution_count": 8,
   "id": "4d69c22b-7d0d-4457-bad7-86d70fda4c23",
   "metadata": {},
   "outputs": [
    {
     "data": {
      "text/plain": [
       "{'source': 'https://lilianweng.github.io/posts/2023-06-23-agent/'}"
      ]
     },
     "execution_count": 8,
     "metadata": {},
     "output_type": "execute_result"
    }
   ],
   "source": [
    "docs[0].metadata"
   ]
  },
  {
   "cell_type": "code",
   "execution_count": 9,
   "id": "286324d3-f7c2-4691-bb03-1b05d5857422",
   "metadata": {},
   "outputs": [
    {
     "name": "stdout",
     "output_type": "stream",
     "text": [
      "\n",
      "\n",
      "      LLM Powered Autonomous Agents\n",
      "    \n",
      "Date: June 23, 2023  |  Estimated Reading Time: 31 min  |  Author: Lilian Weng\n",
      "\n",
      "\n",
      "Building agents with LLM (large language model) as its core controller is a cool concept. Several proof-of-concepts demos, such as AutoGPT, GPT-Engineer and BabyAGI, serve as inspiring examples. The potentiality of LLM extends beyond generating well-written copies, stories, essays and programs; it can be framed as a powerful general problem solver.\n",
      "Agent System Overview#\n",
      "In\n"
     ]
    }
   ],
   "source": [
    "print(docs[0].page_content[:500])"
   ]
  },
  {
   "cell_type": "code",
   "execution_count": 10,
   "id": "1a9d28b1-aa98-4947-ae97-feead1f0314c",
   "metadata": {},
   "outputs": [
    {
     "name": "stdout",
     "output_type": "stream",
     "text": [
      "43130\n"
     ]
    }
   ],
   "source": [
    "print(len(docs[0].page_content))"
   ]
  },
  {
   "cell_type": "markdown",
   "id": "3c5605b5-ae49-47df-9b1c-311859c4bcf3",
   "metadata": {},
   "source": [
    "Our loaded document is over 43k characters which is too long to fit into the context window of many models. Even for those models that could fit the full post in their context window, models can struggle to find information in very long inputs."
   ]
  },
  {
   "cell_type": "markdown",
   "id": "6ddde68f-d449-4272-92be-0a99404122fd",
   "metadata": {},
   "source": [
    "**Chunking the Document**\n",
    "\n",
    "RecursiveCharacterTextSplitter will recursively split the document using common separators like new lines until each chunk is the appropriate size. This is the recommended text splitter for generic text use cases."
   ]
  },
  {
   "cell_type": "code",
   "execution_count": 11,
   "id": "eedefc82-e6ab-49e1-9ab8-ae44b03bfd75",
   "metadata": {},
   "outputs": [
    {
     "name": "stdout",
     "output_type": "stream",
     "text": [
      "Split blog post into 66 sub-documents.\n"
     ]
    }
   ],
   "source": [
    "text_splitter = RecursiveCharacterTextSplitter(\n",
    "    chunk_size = 1000,  # chunk size (characters)\n",
    "    chunk_overlap = 200,  # chunk overlap (characters)\n",
    "    add_start_index = True,  # track index in original document\n",
    ")\n",
    "all_splits = text_splitter.split_documents(docs)\n",
    "\n",
    "print(f\"Split blog post into {len(all_splits)} sub-documents.\")"
   ]
  },
  {
   "cell_type": "code",
   "execution_count": 12,
   "id": "14601694-d364-447b-8832-7342810be6a1",
   "metadata": {},
   "outputs": [
    {
     "data": {
      "text/plain": [
       "{'source': 'https://lilianweng.github.io/posts/2023-06-23-agent/',\n",
       " 'start_index': 971}"
      ]
     },
     "execution_count": 12,
     "metadata": {},
     "output_type": "execute_result"
    }
   ],
   "source": [
    "all_splits[1].metadata"
   ]
  },
  {
   "cell_type": "code",
   "execution_count": 13,
   "id": "43989276-ddd9-49aa-9161-5e0eca2773b7",
   "metadata": {},
   "outputs": [
    {
     "data": {
      "text/plain": [
       "'Memory\\n\\nShort-term memory: I would consider all the in-context learning (See Prompt Engineering) as utilizing short-term memory of the model to learn.\\nLong-term memory: This provides the agent with the capability to retain and recall (infinite) information over extended periods, often by leveraging an external vector store and fast retrieval.\\n\\n\\nTool use\\n\\nThe agent learns to call external APIs for extra information that is missing from the model weights (often hard to change after pre-training), including current information, code execution capability, access to proprietary information sources and more.'"
      ]
     },
     "execution_count": 13,
     "metadata": {},
     "output_type": "execute_result"
    }
   ],
   "source": [
    "all_splits[1].page_content"
   ]
  },
  {
   "cell_type": "code",
   "execution_count": 14,
   "id": "949ad74f-de59-432b-874a-8b7561162306",
   "metadata": {},
   "outputs": [
    {
     "data": {
      "text/plain": [
       "'Fig. 1. Overview of a LLM-powered autonomous agent system.\\nComponent One: Planning#\\nA complicated task usually involves many steps. An agent needs to know what they are and plan ahead.\\nTask Decomposition#\\nChain of thought (CoT; Wei et al. 2022) has become a standard prompting technique for enhancing model performance on complex tasks. The model is instructed to “think step by step” to utilize more test-time computation to decompose hard tasks into smaller and simpler steps. CoT transforms big tasks into multiple manageable tasks and shed lights into an interpretation of the model’s thinking process.'"
      ]
     },
     "execution_count": 14,
     "metadata": {},
     "output_type": "execute_result"
    }
   ],
   "source": [
    "all_splits[2].page_content"
   ]
  },
  {
   "cell_type": "markdown",
   "id": "7294a5f8-eb81-4c67-af31-da15328daaff",
   "metadata": {},
   "source": [
    "**Indexing**"
   ]
  },
  {
   "cell_type": "code",
   "execution_count": 15,
   "id": "3e0c0abc-466e-4ba8-b2c2-2161a772853b",
   "metadata": {
    "scrolled": true
   },
   "outputs": [],
   "source": [
    "_ = vector_store.add_documents(documents = all_splits)"
   ]
  },
  {
   "cell_type": "code",
   "execution_count": 16,
   "id": "581a6976-173e-4e0e-a518-8679bf92ed2a",
   "metadata": {},
   "outputs": [
    {
     "data": {
      "text/plain": [
       "66"
      ]
     },
     "execution_count": 16,
     "metadata": {},
     "output_type": "execute_result"
    }
   ],
   "source": [
    "len(all_splits) # 66 chunks of document"
   ]
  },
  {
   "cell_type": "code",
   "execution_count": 17,
   "id": "4f63ec31-c172-4abd-9246-d15167e47e3a",
   "metadata": {},
   "outputs": [
    {
     "data": {
      "text/plain": [
       "66"
      ]
     },
     "execution_count": 17,
     "metadata": {},
     "output_type": "execute_result"
    }
   ],
   "source": [
    "len(_) # Each chuck is stored in an index"
   ]
  },
  {
   "cell_type": "code",
   "execution_count": 18,
   "id": "80ae632f-774a-4f1a-a2b3-abd4383df53a",
   "metadata": {},
   "outputs": [
    {
     "data": {
      "text/plain": [
       "['5e0d91eb-b7a8-4c9b-b0b4-b94a7f5d13aa',\n",
       " '72d733e0-c718-4cfe-bfae-2030f6d90055',\n",
       " 'cbf3315b-031f-4add-b8fa-e281a00caf80',\n",
       " '70fac92d-9a82-4d87-9b52-16808f391265',\n",
       " '7c987ac1-2d99-4cf5-9c77-0c8f059029b8']"
      ]
     },
     "execution_count": 18,
     "metadata": {},
     "output_type": "execute_result"
    }
   ],
   "source": [
    "_[:5]"
   ]
  },
  {
   "cell_type": "code",
   "execution_count": 19,
   "id": "25d6f44e-834a-4de9-b923-ea2ce9ed0ce9",
   "metadata": {},
   "outputs": [],
   "source": [
    "graph_builder = StateGraph(MessagesState)"
   ]
  },
  {
   "cell_type": "code",
   "execution_count": 20,
   "id": "7c62055d-074c-410b-bd33-b30be9d9d0e5",
   "metadata": {},
   "outputs": [],
   "source": [
    "@tool(response_format = \"content_and_artifact\")\n",
    "def retrieve(query: str):\n",
    "    \"\"\"Retrieve information related to a query.\"\"\"\n",
    "    retrieved_docs = vector_store.similarity_search(query, k=2)\n",
    "    serialized = \"\\n\\n\".join(\n",
    "        (f\"Source: {doc.metadata}\\n\" f\"Content: {doc.page_content}\")\n",
    "        for doc in retrieved_docs\n",
    "    )\n",
    "    return serialized, retrieved_docs"
   ]
  },
  {
   "cell_type": "code",
   "execution_count": 21,
   "id": "12b951d1-0308-4ee9-b477-da64941f3170",
   "metadata": {},
   "outputs": [],
   "source": [
    "# Step 1: Generate an AIMessage that may include a tool-call to be sent.\n",
    "def query_or_respond(state: MessagesState):\n",
    "    \"\"\"Generate tool call for retrieval or respond.\"\"\"\n",
    "    llm_with_tools = llm.bind_tools([retrieve])\n",
    "    response = llm_with_tools.invoke(state[\"messages\"])\n",
    "    # MessagesState appends messages to state instead of overwriting\n",
    "    return {\"messages\": [response]}"
   ]
  },
  {
   "cell_type": "code",
   "execution_count": 22,
   "id": "10b5eea8-13ff-47a0-8633-17ec82c9cc20",
   "metadata": {},
   "outputs": [],
   "source": [
    "# Step 2: Execute the retrieval.\n",
    "tools = ToolNode([retrieve])"
   ]
  },
  {
   "cell_type": "code",
   "execution_count": 23,
   "id": "316f498c-aa65-4a5e-bf94-aaf26b6b46f1",
   "metadata": {},
   "outputs": [],
   "source": [
    "# Step 3: Generate a response using the retrieved content.\n",
    "def generate(state: MessagesState):\n",
    "    \"\"\"Generate answer.\"\"\"\n",
    "    # Get generated ToolMessages\n",
    "    recent_tool_messages = []\n",
    "    for message in reversed(state[\"messages\"]):\n",
    "        if message.type == \"tool\":\n",
    "            recent_tool_messages.append(message)\n",
    "        else:\n",
    "            break\n",
    "    tool_messages = recent_tool_messages[::-1]\n",
    "\n",
    "    # Format into prompt\n",
    "    docs_content = \"\\n\\n\".join(doc.content for doc in tool_messages)\n",
    "    system_message_content = (\n",
    "        \"You are an assistant for question-answering tasks. \"\n",
    "        \"Use the following pieces of retrieved context to answer \"\n",
    "        \"the question. If you don't know the answer, say that you \"\n",
    "        \"don't know. Use three sentences maximum and keep the \"\n",
    "        \"answer concise.\"\n",
    "        \"\\n\\n\"\n",
    "        f\"{docs_content}\"\n",
    "    )\n",
    "    conversation_messages = [\n",
    "        message\n",
    "        for message in state[\"messages\"]\n",
    "        if message.type in (\"human\", \"system\")\n",
    "        or (message.type == \"ai\" and not message.tool_calls)\n",
    "    ]\n",
    "    prompt = [SystemMessage(system_message_content)] + conversation_messages\n",
    "\n",
    "    # Run\n",
    "    response = llm.invoke(prompt)\n",
    "    return {\"messages\": [response]}"
   ]
  },
  {
   "cell_type": "code",
   "execution_count": 24,
   "id": "0d42e846-8fa4-4d44-9e8a-42dc80c3c9dc",
   "metadata": {},
   "outputs": [],
   "source": [
    "graph_builder.add_node(query_or_respond)\n",
    "graph_builder.add_node(tools)\n",
    "graph_builder.add_node(generate)\n",
    "\n",
    "graph_builder.set_entry_point(\"query_or_respond\")\n",
    "graph_builder.add_conditional_edges(\n",
    "    \"query_or_respond\",\n",
    "    tools_condition,\n",
    "    {END: END, \"tools\": \"tools\"},\n",
    ")\n",
    "graph_builder.add_edge(\"tools\", \"generate\")\n",
    "graph_builder.add_edge(\"generate\", END)\n",
    "\n",
    "graph = graph_builder.compile()"
   ]
  },
  {
   "cell_type": "code",
   "execution_count": 25,
   "id": "3d634e85-60b3-45ec-b907-eec62539181d",
   "metadata": {},
   "outputs": [
    {
     "data": {
      "image/png": "[encoded data removed]",
      "text/plain": [
       "<IPython.core.display.Image object>"
      ]
     },
     "metadata": {},
     "output_type": "display_data"
    }
   ],
   "source": [
    "display(Image(graph.get_graph().draw_mermaid_png()))"
   ]
  },
  {
   "cell_type": "code",
   "execution_count": 26,
   "id": "8f01c298-86c9-4765-9af7-a5f136081e63",
   "metadata": {},
   "outputs": [
    {
     "name": "stdout",
     "output_type": "stream",
     "text": [
      "================================\u001b[1m Human Message \u001b[0m=================================\n",
      "\n",
      "Hello\n",
      "==================================\u001b[1m Ai Message \u001b[0m==================================\n",
      "\n",
      "Hello! How can I help you today? Is there a specific topic you would like to learn about or discuss? I'm here to answer any questions you have to the best of my ability. I can provide information on a wide variety of subjects, so don't hesitate to ask me anything. I'm here to help.\n"
     ]
    }
   ],
   "source": [
    "input_message = \"Hello\"\n",
    "\n",
    "for step in graph.stream(\n",
    "    {\"messages\": [{\"role\": \"user\", \"content\": input_message}]},\n",
    "    stream_mode=\"values\",\n",
    "):\n",
    "    step[\"messages\"][-1].pretty_print()"
   ]
  },
  {
   "cell_type": "code",
   "execution_count": 27,
   "id": "ebd6c611-a832-4052-a7eb-49825b3e2c68",
   "metadata": {},
   "outputs": [
    {
     "name": "stdout",
     "output_type": "stream",
     "text": [
      "================================\u001b[1m Human Message \u001b[0m=================================\n",
      "\n",
      "What is Task Decomposition?\n",
      "==================================\u001b[1m Ai Message \u001b[0m==================================\n",
      "\n",
      "Task decomposition is the process of breaking down a complex task or project into smaller, manageable components or sub-tasks. This technique is often used in project management, software engineering, and other fields where complex systems or processes need to be designed, built, or managed.\n",
      "\n",
      "The goal of task decomposition is to make the overall task more manageable, understandable, and tractable. By breaking down a complex task into smaller components, it becomes easier to assign responsibilities, plan resources, estimate timelines, and monitor progress. Additionally, task decomposition can help identify potential bottlenecks, dependencies, and risks, allowing teams to proactively address these issues and ensure successful completion of the project.\n",
      "\n",
      "Task decomposition typically involves several steps, including:\n",
      "\n",
      "1. Identifying the overall goal or objective of the task.\n",
      "2. Breaking down the task into smaller, more specific sub-tasks.\n",
      "3. Identifying the inputs, outputs, and dependencies for each sub-task.\n",
      "4. Estimating the time, resources, and skills required for each sub-task.\n",
      "5. Assigning responsibilities for each sub-task to specific team members or roles.\n",
      "6. Monitoring progress and making adjustments as needed to ensure that the project stays on track.\n",
      "\n",
      "Task decomposition is a powerful technique that can help teams manage complexity, improve communication, and increase the likelihood of success. However, it's important to strike the right balance between granularity and abstraction - breaking down a task into too many sub-tasks can lead to unnecessary complexity and overhead, while not breaking it down enough can make it difficult to manage and execute.\n"
     ]
    }
   ],
   "source": [
    "input_message = \"What is Task Decomposition?\"\n",
    "\n",
    "for step in graph.stream(\n",
    "    {\"messages\": [{\"role\": \"user\", \"content\": input_message}]},\n",
    "    stream_mode=\"values\",\n",
    "):\n",
    "    step[\"messages\"][-1].pretty_print()"
   ]
  },
  {
   "cell_type": "code",
   "execution_count": 28,
   "id": "ba282a79-8ab4-4067-ab4c-5b76da43fd2b",
   "metadata": {},
   "outputs": [],
   "source": [
    "memory = MemorySaver()\n",
    "graph = graph_builder.compile(checkpointer=memory)\n",
    "\n",
    "# Specify an ID for the thread\n",
    "config = {\"configurable\": {\"thread_id\": \"zenai123\"}}"
   ]
  },
  {
   "cell_type": "code",
   "execution_count": 29,
   "id": "f4736753-f4cc-47b2-bae3-810a0a7da783",
   "metadata": {},
   "outputs": [
    {
     "name": "stdout",
     "output_type": "stream",
     "text": [
      "================================\u001b[1m Human Message \u001b[0m=================================\n",
      "\n",
      "Can you look up some common ways of doing it?\n",
      "==================================\u001b[1m Ai Message \u001b[0m==================================\n",
      "\n",
      "Sure, I can help you with that! However, I need more information about what you are looking to do. Are you interested in finding common ways to do something specific? Here are a few examples to help clarify:\n",
      "\n",
      "* Common ways to invest money\n",
      "* Common ways to cook a certain type of food\n",
      "* Common ways to reduce stress\n",
      "* Common ways to decorate a room\n",
      "* Common ways to learn a new language\n",
      "\n",
      "Could you please provide more context so I can give you a more accurate and helpful response? Thank you!\n"
     ]
    }
   ],
   "source": [
    "input_message = \"Can you look up some common ways of doing it?\"\n",
    "\n",
    "for step in graph.stream(\n",
    "    {\"messages\": [{\"role\": \"user\", \"content\": input_message}]},\n",
    "    stream_mode=\"values\",\n",
    "    config=config,\n",
    "):\n",
    "    step[\"messages\"][-1].pretty_print()"
   ]
  },
  {
   "cell_type": "markdown",
   "id": "4bba2004-ce43-423f-8856-992238e43242",
   "metadata": {},
   "source": [
    "## Agents"
   ]
  },
  {
   "cell_type": "code",
   "execution_count": 30,
   "id": "ad754ef8-40c6-4c7c-8383-5250d05eaa3e",
   "metadata": {},
   "outputs": [
    {
     "data": {
      "image/png": "[encoded data removed]",
      "text/plain": [
       "<IPython.core.display.Image object>"
      ]
     },
     "metadata": {},
     "output_type": "display_data"
    }
   ],
   "source": [
    "agent_executor = create_react_agent(llm, [retrieve], checkpointer = memory)\n",
    "\n",
    "display(Image(agent_executor.get_graph().draw_mermaid_png()))"
   ]
  },
  {
   "cell_type": "code",
   "execution_count": 31,
   "id": "8a87f1a8-0177-45aa-abf0-c9c886ae4645",
   "metadata": {},
   "outputs": [
    {
     "name": "stdout",
     "output_type": "stream",
     "text": [
      "================================\u001b[1m Human Message \u001b[0m=================================\n",
      "\n",
      "What is the standard method for Task Decomposition?\n",
      "\n",
      "Once you get the answer, look up common extensions of that method.\n",
      "==================================\u001b[1m Ai Message \u001b[0m==================================\n",
      "\n",
      "Task decomposition is the process of breaking down a complex task into smaller, manageable sub-tasks. The standard method for task decomposition typically involves the following steps:\n",
      "\n",
      "1. Define the task: Clearly define the task that needs to be accomplished, including its objectives and scope.\n",
      "2. Identify the sub-tasks: Break down the task into smaller sub-tasks that can be accomplished more easily. These sub-tasks should be interdependent and build upon each other to achieve the overall objective of the task.\n",
      "3. Prioritize the sub-tasks: Determine the order in which the sub-tasks should be accomplished based on their importance, dependencies, and deadlines.\n",
      "4. Assign resources: Assign the necessary resources, such as personnel, equipment, and materials, to each sub-task.\n",
      "5. Establish timelines: Set realistic timelines for completing each sub-task, taking into account any dependencies and deadlines.\n",
      "6. Monitor progress: Regularly monitor the progress of each sub-task to ensure that they are being completed on time and to the required standards.\n",
      "\n",
      "Some common extensions of this method include:\n",
      "\n",
      "* Work Breakdown Structure (WBS): This is a hierarchical decomposition of a complex project into smaller, more manageable components, which can be used to plan, execute, and monitor the project.\n",
      "* Top-down decomposition: This involves starting with the overall goal of the task and breaking it down into smaller components, continuing until the sub-tasks are small enough to be easily managed.\n",
      "* Bottom-up decomposition: This involves identifying the smallest manageable components of the task and building them up into larger sub-tasks until the overall task is defined.\n",
      "* Functional decomposition: This involves breaking down the task into its functional components, such as design, development, testing, and deployment.\n",
      "* Critical path analysis: This is a method for scheduling and prioritizing tasks in a project by identifying the sequence of tasks that will take the longest time to complete, and ensuring that they are completed on time.\n"
     ]
    }
   ],
   "source": [
    "config = {\"configurable\": {\"thread_id\": \"def234\"}}\n",
    "\n",
    "input_message = (\n",
    "    \"What is the standard method for Task Decomposition?\\n\\n\"\n",
    "    \"Once you get the answer, look up common extensions of that method.\"\n",
    ")\n",
    "\n",
    "for event in agent_executor.stream(\n",
    "    {\"messages\": [{\"role\": \"user\", \"content\": input_message}]},\n",
    "    stream_mode=\"values\",\n",
    "    config=config,\n",
    "):\n",
    "    event[\"messages\"][-1].pretty_print()"
   ]
  },
  {
   "cell_type": "code",
   "execution_count": 35,
   "id": "ef4c2b04-8a59-4f99-aa89-7ce87d9c9fa8",
   "metadata": {},
   "outputs": [],
   "source": [
    "import shutil\n",
    "import os\n",
    "shutil.rmtree(os.path.expanduser(\"~/.cache/huggingface\"))"
   ]
  },
  {
   "cell_type": "code",
   "execution_count": null,
   "id": "659facc6-fa19-45ef-b68f-6a2aaa4c5062",
   "metadata": {},
   "outputs": [],
   "source": []
  }
 ],
 "metadata": {
  "kernelspec": {
   "display_name": "Python 3 (ipykernel)",
   "language": "python",
   "name": "python3"
  },
  "language_info": {
   "codemirror_mode": {
    "name": "ipython",
    "version": 3
   },
   "file_extension": ".py",
   "mimetype": "text/x-python",
   "name": "python",
   "nbconvert_exporter": "python",
   "pygments_lexer": "ipython3",
   "version": "3.12.9"
  }
 },
 "nbformat": 4,
 "nbformat_minor": 5
}
